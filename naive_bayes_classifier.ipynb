{
 "cells": [
  {
   "cell_type": "markdown",
   "metadata": {},
   "source": [
    "# MNIST Digit Classification"
   ]
  },
  {
   "cell_type": "markdown",
   "metadata": {},
   "source": [
    "### Introduction and General Information\n",
    "\n",
    "* We are using Naive Bayes Classification technique to classify the handwritten digits in MNIST database. \n",
    "\n",
    "* Naive Bayes Classifier is a probabilistic machine learning model. It works on the principle of Bayes Theorem.\n",
    "    \n",
    "* Bayes Theorem states that P(y|X) = (P(X|y) * P(y)) / P(X). Here y is the class label (digit 0 or 1), X represents the image features.\n",
    "\n",
    "* Using this theorem, we can find the class probability of the data for given set of features. It is assumed at all features are independent of each other."
   ]
  },
  {
   "cell_type": "markdown",
   "metadata": {},
   "source": [
    "### Objectives\n",
    "\n",
    "* For the purpose of this project, we are considering only a subset of MNIST dataset. We filter the training and testing sets to obtain the images of digits 0 and 1 only.\n",
    "\n",
    "* The main objective of this project is to apply the concept of Naive Bayes Classification technique on the subset of MNIST dataset and evaulate the performance of the classifier."
   ]
  },
  {
   "cell_type": "markdown",
   "metadata": {},
   "source": [
    "### Data Used\n",
    "(Data Source: http://yann.lecun.com/exdb/mnist/)\n",
    "\n",
    "* We are using MNIST dataset containing images of handwritten digits from 0 - 9. \n",
    "\n",
    "* Each image is of size 28 pixels x 28 pixels, making 784 pixels in total. This dataset is divided into training and testing sets. The training set consists of 60,000 images and testing set consists of 10,000 images. \n",
    "\n",
    "* We build the model based on the training dataset and use testing dataset to evaluate the performance of the classification model."
   ]
  },
  {
   "cell_type": "markdown",
   "metadata": {},
   "source": [
    "### Approach and Methodology\n",
    "\n",
    "* Loading and Filtering MNIST Dataset to obtain the images of digits 0 and 1.\n",
    "\n",
    "* Convert the given dataset in 3D Numpy format to 2D pandas dataframe. Now each row is representing a single image in pandas dataframe.\n",
    "\n",
    "* Each image consists of two features namely, average brightness and standard deviation. Perform feature extraction for each image from train and test datasets of digits 0 and 1.\n",
    "\n",
    "* Compute density parameters - Mean and Variance for each of the extracted features. \n",
    "\n",
    "* Apply Naive Baye's classifier technique to classify the image as 0 or 1 on the test dataset by using the density parameters computed above. \n",
    "\n",
    "* Evaluate the performance of the classifier by computing the accuracy of predictions."
   ]
  },
  {
   "cell_type": "markdown",
   "metadata": {},
   "source": [
    "### 1. Importing libraries"
   ]
  },
  {
   "cell_type": "code",
   "execution_count": 1,
   "metadata": {},
   "outputs": [],
   "source": [
    "import pathlib\n",
    "import numpy as np\n",
    "import scipy.io\n",
    "import math\n",
    "import pandas as pd\n",
    "from math import sqrt\n",
    "from math import pi\n",
    "from math import exp\n",
    "from mlxtend.data import loadlocal_mnist\n",
    "from IPython.display import display"
   ]
  },
  {
   "cell_type": "markdown",
   "metadata": {},
   "source": [
    "### 2. Loading and Filtering MNIST Dataset\n",
    "\n",
    "* Download the data from the source link given above and define the paths to access the data.\n",
    "* Filter the desired digit (0 or 1) from the dataset.\n",
    "* The dataset is available in 3D Numpy format. So convert it to 2D pandas dataframe."
   ]
  },
  {
   "cell_type": "code",
   "execution_count": 5,
   "metadata": {},
   "outputs": [],
   "source": [
    "BASE_PATH = str(pathlib.Path().absolute())"
   ]
  },
  {
   "cell_type": "code",
   "execution_count": 6,
   "metadata": {},
   "outputs": [],
   "source": [
    "TRAIN_IMAGE_PATH = BASE_PATH + '/mnist_dataset/train_digit_images_dataset'\n",
    "TRAIN_LABEL_PATH = BASE_PATH + '/mnist_dataset/train_digit_labels_dataset'\n",
    "TEST_IMAGE_PATH = BASE_PATH + '/mnist_dataset/test_digit_images_dataset'\n",
    "TEST_LABEL_PATH = BASE_PATH + '/mnist_dataset/test_digit_labels_dataset'"
   ]
  },
  {
   "cell_type": "markdown",
   "metadata": {},
   "source": [
    "#### 2.1 Method to download the MNIST data and extract the data for particular digit from the entire data:\n",
    "* This method takes the desired digit to be extracted and the data paths as parameters.\n",
    "* After extracted the image data of a particular digit from the entire dataset, We convert it into pandas dataframe."
   ]
  },
  {
   "cell_type": "code",
   "execution_count": 14,
   "metadata": {},
   "outputs": [],
   "source": [
    "def converting_mnist_dataset_to_dataframe(digit, digit_image_path, digit_label_path):\n",
    "    mnist_data_image, mnist_data_label = loadlocal_mnist(digit_image_path, digit_label_path)\n",
    "    \n",
    "    indices_of_desired_digit = np.where((mnist_data_label == digit))\n",
    "    filtered_image_data = mnist_data_image[indices_of_desired_digit]\n",
    "    \n",
    "    filtered_image_data_df = pd.DataFrame(data=filtered_image_data, index=None, columns=None)\n",
    "\n",
    "    return filtered_image_data_df"
   ]
  },
  {
   "cell_type": "code",
   "execution_count": 34,
   "metadata": {},
   "outputs": [
    {
     "name": "stdout",
     "output_type": "stream",
     "text": [
      "Size of digit 0 train dataset: 5923\n",
      "Size of digit 0 test dataset: 980\n"
     ]
    }
   ],
   "source": [
    "train_0_df = converting_mnist_dataset_to_dataframe(0, TRAIN_IMAGE_PATH, TRAIN_LABEL_PATH)\n",
    "test_0_df = converting_mnist_dataset_to_dataframe(0, TEST_IMAGE_PATH, TEST_LABEL_PATH)\n",
    "print(\"Size of digit 0 train dataset: {}\".format(train_0_df.shape[0]))\n",
    "print(\"Size of digit 0 test dataset: {}\".format(test_0_df.shape[0]))"
   ]
  },
  {
   "cell_type": "code",
   "execution_count": 33,
   "metadata": {},
   "outputs": [
    {
     "name": "stdout",
     "output_type": "stream",
     "text": [
      "Size of digit 1 train dataset: 6742\n",
      "Size of digit 1 test dataset: 1135\n"
     ]
    }
   ],
   "source": [
    "train_1_df = converting_mnist_dataset_to_dataframe(1, TRAIN_IMAGE_PATH, TRAIN_LABEL_PATH)\n",
    "test_1_df = converting_mnist_dataset_to_dataframe(1, TEST_IMAGE_PATH, TEST_LABEL_PATH)\n",
    "print(\"Size of digit 1 train dataset: {}\".format(train_1_df.shape[0]))\n",
    "print(\"Size of digit 1 test dataset: {}\".format(test_1_df.shape[0]))"
   ]
  },
  {
   "cell_type": "markdown",
   "metadata": {},
   "source": [
    "### 3. Feature Extraction\n",
    "\n",
    "* Each row of the pandas dataframe represents an image. Each image consists of following two features - Average Brightness and Standard Deviation.\n",
    "* Average Brightness is extracted by computing the mean of all pixel values in a row.\n",
    "* Standard Deviation is extracted by computing standard deviation of all the pixel values in a row.\n",
    "* Extract these features of digit 0 and 1 seperately and then combine them in a single dataframe."
   ]
  },
  {
   "cell_type": "markdown",
   "metadata": {},
   "source": [
    "#### 3.1 Method to extract features from the dataframe:\n",
    "\n",
    "* We perform feature extraction seperately on train_0, train_1, test_0 and test_1 dataframes.\n",
    "* This methods takes a dataframe and the desired digit as parameters. \n",
    "* Average Brightness and Standard Deviation is computed for each image i.e. each row of the input dataframe.\n",
    "* A column for class vector is also added to the extracted features dataframe."
   ]
  },
  {
   "cell_type": "code",
   "execution_count": 20,
   "metadata": {},
   "outputs": [],
   "source": [
    "def feature_extraction(df, digit):\n",
    "    avg_brightness = df.agg('mean', axis = 'columns')\n",
    "    avg_std = df.agg('std', axis = 'columns')\n",
    "    extracted_features_df = pd.concat([avg_brightness, avg_std], axis=1)\n",
    "    extracted_features_df.columns = ['averageBrightness', 'standardDeviation']\n",
    "    extracted_features_df['classVector'] = digit\n",
    "    \n",
    "    return extracted_features_df"
   ]
  },
  {
   "cell_type": "code",
   "execution_count": 69,
   "metadata": {},
   "outputs": [
    {
     "name": "stdout",
     "output_type": "stream",
     "text": [
      "Size of digit 0 extracted features dataframe: 5923\n"
     ]
    }
   ],
   "source": [
    "train_0_extracted_features_df = feature_extraction(train_0_df, 0)\n",
    "print(\"Size of digit 0 extracted features from train dataframe: {}\".format(train_0_extracted_features_df.shape[0]))"
   ]
  },
  {
   "cell_type": "code",
   "execution_count": 70,
   "metadata": {},
   "outputs": [
    {
     "name": "stdout",
     "output_type": "stream",
     "text": [
      "   averageBrightness  standardDeviation  classVector\n",
      "0             39.662             83.941            0\n",
      "1             45.195             89.087            0\n",
      "2             46.565             91.800            0\n",
      "3             47.533             91.750            0\n",
      "4             58.091             99.273            0\n"
     ]
    }
   ],
   "source": [
    "print(train_0_extracted_features_df.round(3).head())"
   ]
  },
  {
   "cell_type": "code",
   "execution_count": 71,
   "metadata": {
    "scrolled": true
   },
   "outputs": [
    {
     "name": "stdout",
     "output_type": "stream",
     "text": [
      "      averageBrightness  standardDeviation  classVector\n",
      "5918             36.849             83.442            0\n",
      "5919             30.084             73.061            0\n",
      "5920             39.562             83.475            0\n",
      "5921             45.062             88.404            0\n",
      "5922             44.422             88.973            0\n"
     ]
    }
   ],
   "source": [
    "print(train_0_extracted_features_df.round(3).tail())"
   ]
  },
  {
   "cell_type": "code",
   "execution_count": 72,
   "metadata": {},
   "outputs": [
    {
     "name": "stdout",
     "output_type": "stream",
     "text": [
      "Size of digit 1 extracted features from train dataframe: 6742\n"
     ]
    }
   ],
   "source": [
    "train_1_extracted_features_df = feature_extraction(train_1_df, 1)\n",
    "print(\"Size of digit 1 extracted features from train dataframe: {}\".format(train_1_extracted_features_df.shape[0]))"
   ]
  },
  {
   "cell_type": "code",
   "execution_count": 76,
   "metadata": {},
   "outputs": [
    {
     "name": "stdout",
     "output_type": "stream",
     "text": [
      "   averageBrightness  standardDeviation  classVector\n",
      "0             21.856             66.121            1\n",
      "1             22.508             67.885            1\n",
      "2             13.870             52.649            1\n",
      "3             14.824             54.617            1\n",
      "4             21.144             64.798            1\n"
     ]
    }
   ],
   "source": [
    "print(train_1_extracted_features_df.round(3).head())"
   ]
  },
  {
   "cell_type": "code",
   "execution_count": 77,
   "metadata": {},
   "outputs": [
    {
     "name": "stdout",
     "output_type": "stream",
     "text": [
      "      averageBrightness  standardDeviation  classVector\n",
      "6737             15.491             55.311            1\n",
      "6738             20.932             64.326            1\n",
      "6739             15.911             55.794            1\n",
      "6740             19.302             61.458            1\n",
      "6741             12.279             47.491            1\n"
     ]
    }
   ],
   "source": [
    "print(train_1_extracted_features_df.round(3).tail())"
   ]
  },
  {
   "cell_type": "code",
   "execution_count": 75,
   "metadata": {},
   "outputs": [
    {
     "name": "stdout",
     "output_type": "stream",
     "text": [
      "Size of digit 0 extracted features from test dataframe: 980\n"
     ]
    }
   ],
   "source": [
    "test_0_extracted_features_df = feature_extraction(test_0_df, 0)\n",
    "print(\"Size of digit 0 extracted features from test dataframe: {}\".format(test_0_extracted_features_df.shape[0]))"
   ]
  },
  {
   "cell_type": "code",
   "execution_count": 78,
   "metadata": {},
   "outputs": [
    {
     "name": "stdout",
     "output_type": "stream",
     "text": [
      "   averageBrightness  standardDeviation  classVector\n",
      "0             47.212             92.463            0\n",
      "1             37.960             81.688            0\n",
      "2             37.509             81.939            0\n",
      "3             67.417            105.710            0\n",
      "4             43.903             88.954            0\n"
     ]
    }
   ],
   "source": [
    "print(test_0_extracted_features_df.round(3).head())"
   ]
  },
  {
   "cell_type": "code",
   "execution_count": 79,
   "metadata": {},
   "outputs": [
    {
     "name": "stdout",
     "output_type": "stream",
     "text": [
      "     averageBrightness  standardDeviation  classVector\n",
      "975             49.635             92.342            0\n",
      "976             42.518             84.580            0\n",
      "977             36.282             80.183            0\n",
      "978             56.047             98.186            0\n",
      "979             69.921            107.090            0\n"
     ]
    }
   ],
   "source": [
    "print(test_0_extracted_features_df.round(3).tail())"
   ]
  },
  {
   "cell_type": "code",
   "execution_count": 80,
   "metadata": {},
   "outputs": [
    {
     "name": "stdout",
     "output_type": "stream",
     "text": [
      "Size of digit 1 extracted features from test dataframe: 1135\n"
     ]
    }
   ],
   "source": [
    "test_1_extracted_features_df = feature_extraction(test_1_df, 1)\n",
    "print(\"Size of digit 1 extracted features from test dataframe: {}\".format(test_1_extracted_features_df.shape[0]))"
   ]
  },
  {
   "cell_type": "code",
   "execution_count": 81,
   "metadata": {},
   "outputs": [
    {
     "name": "stdout",
     "output_type": "stream",
     "text": [
      "   averageBrightness  standardDeviation  classVector\n",
      "0             12.591             48.898            1\n",
      "1             17.672             59.554            1\n",
      "2             20.662             66.499            1\n",
      "3             16.311             57.236            1\n",
      "4             13.804             52.370            1\n"
     ]
    }
   ],
   "source": [
    "print(test_1_extracted_features_df.round(3).head())"
   ]
  },
  {
   "cell_type": "code",
   "execution_count": 82,
   "metadata": {},
   "outputs": [
    {
     "name": "stdout",
     "output_type": "stream",
     "text": [
      "      averageBrightness  standardDeviation  classVector\n",
      "1130             18.744             60.695            1\n",
      "1131             17.869             58.316            1\n",
      "1132             21.606             65.197            1\n",
      "1133             22.036             67.327            1\n",
      "1134             21.989             66.490            1\n"
     ]
    }
   ],
   "source": [
    "print(test_1_extracted_features_df.round(3).tail())"
   ]
  },
  {
   "cell_type": "markdown",
   "metadata": {},
   "source": [
    "#### 3.2 Method to combine extracted features of digits 0 and 1 into a single dataframe:\n",
    "\n",
    "* This method combines the extracted features of digit 0 and 1 from the training set into single dataframe."
   ]
  },
  {
   "cell_type": "code",
   "execution_count": 83,
   "metadata": {},
   "outputs": [],
   "source": [
    "def create_combined_train_features_df():    \n",
    "    combined_train_features_df = pd.concat([train_0_extracted_features_df, train_1_extracted_features_df])\n",
    "    \n",
    "    return combined_train_features_df"
   ]
  },
  {
   "cell_type": "code",
   "execution_count": 84,
   "metadata": {},
   "outputs": [
    {
     "name": "stdout",
     "output_type": "stream",
     "text": [
      "Size of combined train dataset: 12665\n"
     ]
    }
   ],
   "source": [
    "combined_train_features_df = create_combined_train_features_df()\n",
    "print(\"Size of combined train dataset: {}\".format(combined_train_features_df.shape[0]))"
   ]
  },
  {
   "cell_type": "code",
   "execution_count": 85,
   "metadata": {},
   "outputs": [
    {
     "name": "stdout",
     "output_type": "stream",
     "text": [
      "   averageBrightness  standardDeviation  classVector\n",
      "0             39.662             83.941            0\n",
      "1             45.195             89.087            0\n",
      "2             46.565             91.800            0\n",
      "3             47.533             91.750            0\n",
      "4             58.091             99.273            0\n"
     ]
    }
   ],
   "source": [
    "print(combined_train_features_df.round(3).head())"
   ]
  },
  {
   "cell_type": "code",
   "execution_count": 86,
   "metadata": {},
   "outputs": [
    {
     "name": "stdout",
     "output_type": "stream",
     "text": [
      "      averageBrightness  standardDeviation  classVector\n",
      "6737             15.491             55.311            1\n",
      "6738             20.932             64.326            1\n",
      "6739             15.911             55.794            1\n",
      "6740             19.302             61.458            1\n",
      "6741             12.279             47.491            1\n"
     ]
    }
   ],
   "source": [
    "print(combined_train_features_df.round(3).tail())"
   ]
  },
  {
   "cell_type": "markdown",
   "metadata": {},
   "source": [
    "### 4. Density Estimation\n",
    "\n",
    "* We assume that both the features extracted above are independent of each other and each of the image follows normal distribution.\n",
    "* Normal Distribution is characterized by Mean and Variance.\n",
    "* We compute Mean and Variance for both the features from the combined dataframe."
   ]
  },
  {
   "cell_type": "markdown",
   "metadata": {},
   "source": [
    "#### 4.1 Method to compute Mean and Variance for each feature:\n",
    "\n",
    "* This method takes a dataframe as parameter.\n",
    "* It groups the data in the dataframe by class vector and computes Mean and Variance for each column of the dataframe."
   ]
  },
  {
   "cell_type": "code",
   "execution_count": 87,
   "metadata": {},
   "outputs": [],
   "source": [
    "def normal_distribution_parameters(df):\n",
    "    return df.groupby('classVector').agg(['mean','var']).round(2)"
   ]
  },
  {
   "cell_type": "code",
   "execution_count": 88,
   "metadata": {},
   "outputs": [
    {
     "data": {
      "text/html": [
       "<div>\n",
       "<style scoped>\n",
       "    .dataframe tbody tr th:only-of-type {\n",
       "        vertical-align: middle;\n",
       "    }\n",
       "\n",
       "    .dataframe tbody tr th {\n",
       "        vertical-align: top;\n",
       "    }\n",
       "\n",
       "    .dataframe thead tr th {\n",
       "        text-align: left;\n",
       "    }\n",
       "\n",
       "    .dataframe thead tr:last-of-type th {\n",
       "        text-align: right;\n",
       "    }\n",
       "</style>\n",
       "<table border=\"1\" class=\"dataframe\">\n",
       "  <thead>\n",
       "    <tr>\n",
       "      <th></th>\n",
       "      <th colspan=\"2\" halign=\"left\">averageBrightness</th>\n",
       "      <th colspan=\"2\" halign=\"left\">standardDeviation</th>\n",
       "    </tr>\n",
       "    <tr>\n",
       "      <th></th>\n",
       "      <th>mean</th>\n",
       "      <th>var</th>\n",
       "      <th>mean</th>\n",
       "      <th>var</th>\n",
       "    </tr>\n",
       "    <tr>\n",
       "      <th>classVector</th>\n",
       "      <th></th>\n",
       "      <th></th>\n",
       "      <th></th>\n",
       "      <th></th>\n",
       "    </tr>\n",
       "  </thead>\n",
       "  <tbody>\n",
       "    <tr>\n",
       "      <th>0</th>\n",
       "      <td>44.22</td>\n",
       "      <td>115.29</td>\n",
       "      <td>87.49</td>\n",
       "      <td>101.63</td>\n",
       "    </tr>\n",
       "    <tr>\n",
       "      <th>1</th>\n",
       "      <td>19.38</td>\n",
       "      <td>31.45</td>\n",
       "      <td>61.41</td>\n",
       "      <td>82.81</td>\n",
       "    </tr>\n",
       "  </tbody>\n",
       "</table>\n",
       "</div>"
      ],
      "text/plain": [
       "            averageBrightness         standardDeviation        \n",
       "                         mean     var              mean     var\n",
       "classVector                                                    \n",
       "0                       44.22  115.29             87.49  101.63\n",
       "1                       19.38   31.45             61.41   82.81"
      ]
     },
     "metadata": {},
     "output_type": "display_data"
    }
   ],
   "source": [
    "statistics = normal_distribution_parameters(combined_train_features_df)\n",
    "display(statistics)"
   ]
  },
  {
   "cell_type": "markdown",
   "metadata": {},
   "source": [
    "### 5. Implementing Naive Bayes Classifier\n",
    "\n",
    "* This will predict the class vector of the previously unknown dataset i.e. test dataset. \n",
    "\n",
    "* Extracted features of the test dataset will be used here.\n",
    "\n",
    "* Each row of the extracted features dataframe contains Average Brightness and Standard Deviation values of a single image.\n",
    "\n",
    "* We find the class probabilities of the image.\n",
    "    * Let D = data representing Average Brightness and Standard Deviation of a particular image.\n",
    "    * Compute P(class = 0 | D)\n",
    "    * Compute P(class = 1 | D)\n",
    "    \n",
    "* Compare the values of P(class = 0 | D) and P(class = 1 | D). Highest among the two is considered as the class label for that particular image, D."
   ]
  },
  {
   "cell_type": "markdown",
   "metadata": {},
   "source": [
    "#### Formula for computing class probabilities:\n",
    "\n",
    "* P(class = 0 | D) = P(D | class = 0) * P(class = 0)\n",
    "              = P(averageBrightness | class = 0) * P(standardDeviation | class = 0) * P(class = 0)\n",
    "\n",
    "* P(class = 1 | D) = P(D | class = 1) * P(class = 1)\n",
    "              = P(averageBrightness | class = 1) * P(standardDeviation | class = 1) * P(class = 1)"
   ]
  },
  {
   "cell_type": "markdown",
   "metadata": {},
   "source": [
    "#### Gaussian Formula for computing probability of continuous feature attributes:\n",
    "\n",
    "* P(x | class) can be computed by the gaussian formula shown below.\n",
    "    * x is averageBrightness or standardDeviation\n",
    "    * class is 0 or 1"
   ]
  },
  {
   "attachments": {
    "61463c3decedda46e356782e24051ec7dd3c34c8.svg": {
     "image/svg+xml": [
      "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"
     ]
    }
   },
   "cell_type": "markdown",
   "metadata": {},
   "source": [
    "![61463c3decedda46e356782e24051ec7dd3c34c8.svg](attachment:61463c3decedda46e356782e24051ec7dd3c34c8.svg)"
   ]
  },
  {
   "cell_type": "markdown",
   "metadata": {},
   "source": [
    "Here, \n",
    "* 𝜇 - mean of the distribution\n",
    "* 𝜎 - standard deviation of the distribution\n",
    "* 𝜎^2 - variance of the distribution\n",
    "* x = averageBrightness or standardDeviation of the image.\n",
    "\n",
    "\n",
    "\n",
    "\n",
    "\n"
   ]
  },
  {
   "cell_type": "markdown",
   "metadata": {},
   "source": [
    "#### 5.1 Method to calculate Gaussian probability distribution for Average Brightness and Standard Deviation of each row of the combined features dataframe:\n",
    "\n",
    "* This method takes the feature value (can be either of Average Brightness and Standard Deviation), mean and standard deviation of the feature distribution as parameters.\n",
    "* This method is used for computation of -\n",
    "    * P(averageBrightness | class = 0)\n",
    "    * P(standardDeviation | class = 0)\n",
    "    * P(averageBrightness | class = 1)\n",
    "    * P(standardDeviation | class = 1)\n",
    "    "
   ]
  },
  {
   "cell_type": "code",
   "execution_count": 89,
   "metadata": {},
   "outputs": [],
   "source": [
    "def calc_gaussian_probability(feature_val, mean, stdev):\n",
    "    exponent = exp(-((feature_val-mean)**2 / (2 * stdev**2 )))\n",
    "    return (1 / (sqrt(2 * pi) * stdev)) * exponent"
   ]
  },
  {
   "cell_type": "markdown",
   "metadata": {},
   "source": [
    "#### 5.2 Method to compute class probabilities for each row of the combined features dataframe:\n",
    "\n",
    "* Each row of the combined features dataframe represents an image. \n",
    "* This method is used to compute P(class = 0 | D) and P(class = 1 | D); D = data representing Average Brightness and Standard Deviation of a particular image.\n",
    "* Probabilities obtained using above formula are stored in a dictionary of form {0: probability value, 1: probability value)"
   ]
  },
  {
   "cell_type": "code",
   "execution_count": 2,
   "metadata": {},
   "outputs": [],
   "source": [
    "def calc_class_probability(row):\n",
    "#     combined_train_features_df = create_combined_train_features_df()\n",
    "    total_images = combined_train_features_df.shape[0]\n",
    "    features = ['averageBrightness', 'standardDeviation']\n",
    "    classVector = [0,1]\n",
    "    class_probabilities = dict()\n",
    "    stats = combined_train_features_df.groupby('classVector').agg(['mean','std'])\n",
    "\n",
    "    for class_value in classVector:\n",
    "        class_probabilities[class_value] = (combined_train_features_df.classVector == class_value).sum()/total_images\n",
    "        for i in range(len(features)):\n",
    "            feature_df = stats[features[i]]\n",
    "            feature_mean = feature_df.loc[class_value]['mean']\n",
    "            feature_std = feature_df.loc[class_value]['std']\n",
    "            class_probabilities[class_value] *= calc_gaussian_probability(row[i], feature_mean, feature_std)\n",
    "            \n",
    "    return class_probabilities"
   ]
  },
  {
   "cell_type": "markdown",
   "metadata": {},
   "source": [
    "#### 5.3 Method to predict the class for a given previously unknown dataset:\n",
    "\n",
    "* We now have class probabilities in the form of dictionary for a particular image.\n",
    "* In this method, we will compare the probabilites of the image belonging to class = 0 and class = 1. The highest of the two becomes our predicted class label for the image."
   ]
  },
  {
   "cell_type": "code",
   "execution_count": 3,
   "metadata": {},
   "outputs": [],
   "source": [
    "def predict_class_for_dataset(row):\n",
    "    class_probabilities = calc_class_probability(row)\n",
    "    predicted_label, highest_prob = None, -1\n",
    "    \n",
    "    for class_val, probability in class_probabilities.items():\n",
    "        if predicted_label is None or probability > highest_prob:\n",
    "            highest_prob = probability\n",
    "            predicted_label = class_val\n",
    "            \n",
    "    return predicted_label"
   ]
  },
  {
   "cell_type": "markdown",
   "metadata": {},
   "source": [
    "#### 5.4 Method to build Naive Baye's classifier model:\n",
    "\n",
    "* This method takes a dataframe as parameter. \n",
    "* We use the extracted features of digit 0 and 1 from test dataset for building this classification model.\n",
    "* Iterate through the dataframe and convert each row to a list. Store all such lists in rows_list.\n",
    "* Now iterate through this list consisting of all the rows for predicting their class.\n",
    "* Store the predictions for all these rows of the dataframe in a form of a list."
   ]
  },
  {
   "cell_type": "code",
   "execution_count": 4,
   "metadata": {},
   "outputs": [],
   "source": [
    "def naive_bayes_classifier(test_df):\n",
    "    class_predictions = []\n",
    "    rows_list = []\n",
    "\n",
    "    for index, rows in test_df.iterrows():\n",
    "        test_row =[rows.averageBrightness, rows.standardDeviation]\n",
    "        rows_list.append(test_row)\n",
    "\n",
    "    for row in rows_list:\n",
    "        predicted_class = predict_class_for_dataset(row)\n",
    "        class_predictions.append(predicted_class)\n",
    "\n",
    "    return class_predictions"
   ]
  },
  {
   "cell_type": "markdown",
   "metadata": {},
   "source": [
    "### 6. Evaluating Classifier Model Performance\n",
    "\n",
    "* In order to evaluate the model performance, we will compute the accuracy of the class predictions made by the model. \n",
    "\n",
    "* Accuracy for predicting digits 0 and 1 is computed seperately.\n"
   ]
  },
  {
   "cell_type": "markdown",
   "metadata": {},
   "source": [
    "#### 6.1 Method to calculate accuracy of the naive bayes classifier model:\n",
    "\n",
    "* In this method, model prediction for digit 0 and 1 are compared with the ground truth respectively.\n",
    "* Number of correct predictions is counted against the total number of data in test dataset of a particular digit.\n",
    "* Accuracy is given by (Number of correct predictions / Total number of observations) * 100"
   ]
  },
  {
   "cell_type": "code",
   "execution_count": 6,
   "metadata": {},
   "outputs": [],
   "source": [
    "def calc_accuracy(digit, test_df):\n",
    "    class_count = test_df.shape[0]\n",
    "    actual = [digit]*class_count\n",
    "    predicted = naive_bayes_classifier(test_df)\n",
    "    correctly_predicted = 0\n",
    "\n",
    "    for i in range(len(actual)):\n",
    "        if actual[i] == predicted[i]:\n",
    "            correctly_predicted += 1\n",
    "\n",
    "    accuracy = round(correctly_predicted/len(actual) * 100,2)\n",
    "    \n",
    "    return accuracy"
   ]
  },
  {
   "cell_type": "code",
   "execution_count": 94,
   "metadata": {},
   "outputs": [
    {
     "name": "stdout",
     "output_type": "stream",
     "text": [
      "Accuracy for digit 0: 91.43 %\n",
      "Accuracy for digit 1: 92.42 %\n"
     ]
    }
   ],
   "source": [
    "prediction_accuracy_0 = calc_accuracy(0,test0_extracted_features_df)\n",
    "prediction_accuracy_1 = calc_accuracy(1,test1_extracted_features_df)\n",
    "\n",
    "print(\"Accuracy for digit 0: {} %\".format(prediction_accuracy_0))\n",
    "print(\"Accuracy for digit 1: {} %\".format(prediction_accuracy_1))"
   ]
  },
  {
   "cell_type": "markdown",
   "metadata": {},
   "source": [
    "### 7. Conclusion\n",
    "\n",
    "* We built a Naive Baye's Classification Model to classify the digits as 0 and 1 from the subset of MNIST testing dataset.\n",
    "* This model is able to classify digit 0 with 91.4 % accuracy and digit 1 with 92.4 % accuracy."
   ]
  }
 ],
 "metadata": {
  "kernelspec": {
   "display_name": "Python 3",
   "language": "python",
   "name": "python3"
  },
  "language_info": {
   "codemirror_mode": {
    "name": "ipython",
    "version": 3
   },
   "file_extension": ".py",
   "mimetype": "text/x-python",
   "name": "python",
   "nbconvert_exporter": "python",
   "pygments_lexer": "ipython3",
   "version": "3.7.7"
  }
 },
 "nbformat": 4,
 "nbformat_minor": 4
}
